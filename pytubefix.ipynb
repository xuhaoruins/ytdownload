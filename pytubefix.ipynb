{
 "cells": [
  {
   "cell_type": "code",
   "execution_count": null,
   "metadata": {},
   "outputs": [],
   "source": [
    "from pytubefix import YouTube\n",
    "from pytubefix.cli import on_progress\n",
    " \n",
    "url = \"https://www.youtube.com/watch?v=T9bx_Dn2zxg\"\n",
    " \n",
    "yt = YouTube(url, on_progress_callback = on_progress)\n",
    "print(yt.title)\n",
    "\n",
    "ys = yt.streams.get_highest_resolution()\n",
    "ys.download()"
   ]
  },
  {
   "cell_type": "code",
   "execution_count": 5,
   "metadata": {},
   "outputs": [
    {
     "name": "stdout",
     "output_type": "stream",
     "text": [
      "Start downloading!\n",
      "Start merging!██████████████████████████████████| 100.0%\n",
      "Moviepy - Building video GitHub Copilot Chat and o1-preview Building a maze generator!.mp4.\n",
      "MoviePy - Writing audio in GitHub Copilot Chat and o1-preview Building a maze generator!TEMP_MPY_wvf_snd.mp3\n"
     ]
    },
    {
     "name": "stderr",
     "output_type": "stream",
     "text": [
      "                                                                      \r"
     ]
    },
    {
     "name": "stdout",
     "output_type": "stream",
     "text": [
      "MoviePy - Done.\n",
      "Moviepy - Writing video GitHub Copilot Chat and o1-preview Building a maze generator!.mp4\n",
      "\n"
     ]
    },
    {
     "name": "stderr",
     "output_type": "stream",
     "text": [
      "                                                                \r"
     ]
    },
    {
     "name": "stdout",
     "output_type": "stream",
     "text": [
      "Moviepy - Done !\n",
      "Moviepy - video ready GitHub Copilot Chat and o1-preview Building a maze generator!.mp4\n",
      "Video completed!\n",
      "Start downloading!\n",
      "Download Error!\n",
      "Start merging!\n",
      "Moviepy - Building video GitHub Copilot Chat and o1-preview Building a maze generator!.mp4.\n",
      "MoviePy - Writing audio in GitHub Copilot Chat and o1-preview Building a maze generator!TEMP_MPY_wvf_snd.mp3\n"
     ]
    },
    {
     "name": "stderr",
     "output_type": "stream",
     "text": [
      "                                                                      \r"
     ]
    },
    {
     "name": "stdout",
     "output_type": "stream",
     "text": [
      "MoviePy - Done.\n",
      "Moviepy - Writing video GitHub Copilot Chat and o1-preview Building a maze generator!.mp4\n",
      "\n"
     ]
    },
    {
     "name": "stderr",
     "output_type": "stream",
     "text": [
      "                                                                \r"
     ]
    },
    {
     "name": "stdout",
     "output_type": "stream",
     "text": [
      "Moviepy - Done !\n",
      "Moviepy - video ready GitHub Copilot Chat and o1-preview Building a maze generator!.mp4\n",
      "Video completed!\n",
      "Start downloading!\n",
      "Start merging!██████████████████████████████████| 100.0%\n",
      "Moviepy - Building video What is GitHub Models Develop with models from OpenAI, Mistral, Cohere, Meta, and more.mp4.\n",
      "MoviePy - Writing audio in What is GitHub Models Develop with models from OpenAI, Mistral, Cohere, Meta, and moreTEMP_MPY_wvf_snd.mp3\n"
     ]
    },
    {
     "name": "stderr",
     "output_type": "stream",
     "text": [
      "                                                                   \r"
     ]
    },
    {
     "name": "stdout",
     "output_type": "stream",
     "text": [
      "MoviePy - Done.\n",
      "Moviepy - Writing video What is GitHub Models Develop with models from OpenAI, Mistral, Cohere, Meta, and more.mp4\n",
      "\n"
     ]
    },
    {
     "name": "stderr",
     "output_type": "stream",
     "text": [
      "                                                              \r"
     ]
    },
    {
     "name": "stdout",
     "output_type": "stream",
     "text": [
      "Moviepy - Done !\n",
      "Moviepy - video ready What is GitHub Models Develop with models from OpenAI, Mistral, Cohere, Meta, and more.mp4\n",
      "Video completed!\n",
      "Start downloading!\n",
      "Start merging!██████████████████████████████████| 100.0%\n",
      "Moviepy - Building video GitHub Models DEMO  AI models for developers on GitHub.mp4.\n",
      "MoviePy - Writing audio in GitHub Models DEMO  AI models for developers on GitHubTEMP_MPY_wvf_snd.mp3\n"
     ]
    },
    {
     "name": "stderr",
     "output_type": "stream",
     "text": [
      "                                                                      \r"
     ]
    },
    {
     "name": "stdout",
     "output_type": "stream",
     "text": [
      "MoviePy - Done.\n",
      "Moviepy - Writing video GitHub Models DEMO  AI models for developers on GitHub.mp4\n",
      "\n"
     ]
    },
    {
     "name": "stderr",
     "output_type": "stream",
     "text": [
      "                                                                \r"
     ]
    },
    {
     "name": "stdout",
     "output_type": "stream",
     "text": [
      "Moviepy - Done !\n",
      "Moviepy - video ready GitHub Models DEMO  AI models for developers on GitHub.mp4\n",
      "Video completed!\n",
      "Start downloading!\n",
      "Start merging!██████████████████████████████████| 100.0%\n",
      "Moviepy - Building video Private Mirrors App Enabling secure contributions without compromising sensitive information.mp4.\n",
      "MoviePy - Writing audio in Private Mirrors App Enabling secure contributions without compromising sensitive informationTEMP_MPY_wvf_snd.mp3\n"
     ]
    },
    {
     "name": "stderr",
     "output_type": "stream",
     "text": [
      "                                                                      \r"
     ]
    },
    {
     "name": "stdout",
     "output_type": "stream",
     "text": [
      "MoviePy - Done.\n",
      "Moviepy - Writing video Private Mirrors App Enabling secure contributions without compromising sensitive information.mp4\n",
      "\n"
     ]
    },
    {
     "name": "stderr",
     "output_type": "stream",
     "text": [
      "                                                                \r"
     ]
    },
    {
     "name": "stdout",
     "output_type": "stream",
     "text": [
      "Moviepy - Done !\n",
      "Moviepy - video ready Private Mirrors App Enabling secure contributions without compromising sensitive information.mp4\n",
      "Video completed!\n",
      "Task Completed!\n"
     ]
    }
   ],
   "source": [
    "# Download YouTube 1080p Videos\n",
    "\n",
    "from pytubefix import YouTube\n",
    "from pytubefix.cli import on_progress\n",
    "from moviepy.editor import *\n",
    "\n",
    "# Where to save\n",
    "SAVE_PATH = \"download/\"  # to_do\n",
    "\n",
    "# Links of the videos to be downloaded\n",
    "links = [\"https://www.youtube.com/watch?v=HxoCaobgg70\",\n",
    "         \"https://www.youtube.com/watch?v=G7jRNfJpRjs\",\n",
    "         \"https://www.youtube.com/watch?v=6JuwNLuqV4c\",\n",
    "         \"https://www.youtube.com/watch?v=WiBB8Lsgl7I\",\n",
    "         \"https://www.youtube.com/watch?v=pVhB0epW5ro\"]\n",
    "\n",
    "# links = [\"https://www.youtube.com/watch?v=pVhB0epW5ro\"]\n",
    "\n",
    "for link in links:\n",
    " \n",
    "    yt = YouTube(link, on_progress_callback = on_progress)\n",
    "\n",
    "    # Select the highest resolution video-only stream\n",
    "    video_stream = yt.streams.filter(res=\"1080p\", mime_type='video/mp4', file_extension='mp4').first()\n",
    "    # Select the highest quality audio stream\n",
    "    audio_stream = yt.streams.filter(abr=\"128kbps\", mime_type='audio/mp4').first()\n",
    "\n",
    "    if video_stream and audio_stream:\n",
    "        try:\n",
    "            # Download video and audio files\n",
    "            print(yt.title + \"Start downloading!\")\n",
    "            video_filename = video_stream.download(output_path='download/tmp/video')\n",
    "            audio_filename = audio_stream.download(output_path='download/tmp/audio')\n",
    "        except:\n",
    "            print(\"Download Error!\")\n",
    "\n",
    "        print(\"Start merging!\")\n",
    "        # Load downloaded video and audio files\n",
    "        video_clip = VideoFileClip(video_filename)\n",
    "        audio_clip = AudioFileClip(audio_filename)\n",
    "\n",
    "        # Setting the audio of the video clip\n",
    "        final_clip = video_clip.set_audio(audio_clip)\n",
    "\n",
    "        # Export the final clip with both video and audio\n",
    "        final_clip.write_videofile(video_filename.split('\\\\')[-1])\n",
    "\n",
    "        print(\"Video completed!\")\n",
    "\n",
    "    else:\n",
    "        print(\"Required streams are not available.\")\n",
    "\n",
    "print('Task Completed!')\n"
   ]
  }
 ],
 "metadata": {
  "kernelspec": {
   "display_name": "base",
   "language": "python",
   "name": "python3"
  },
  "language_info": {
   "codemirror_mode": {
    "name": "ipython",
    "version": 3
   },
   "file_extension": ".py",
   "mimetype": "text/x-python",
   "name": "python",
   "nbconvert_exporter": "python",
   "pygments_lexer": "ipython3",
   "version": "3.10.13"
  }
 },
 "nbformat": 4,
 "nbformat_minor": 2
}
