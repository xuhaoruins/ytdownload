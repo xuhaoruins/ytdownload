{
 "cells": [
  {
   "cell_type": "code",
   "execution_count": 1,
   "metadata": {},
   "outputs": [
    {
     "name": "stdout",
     "output_type": "stream",
     "text": [
      "Required streams are not available.\n",
      "Required streams are not available.\n",
      "Required streams are not available.\n",
      "Start downloading!\n",
      "Start merging!\n",
      "Moviepy - Building video Navigate your codebase - Copilot Enterprise [no audio].mp4.\n",
      "MoviePy - Writing audio in Navigate your codebase - Copilot Enterprise [no audio]TEMP_MPY_wvf_snd.mp3\n"
     ]
    },
    {
     "name": "stderr",
     "output_type": "stream",
     "text": [
      "                                                                    \r"
     ]
    },
    {
     "name": "stdout",
     "output_type": "stream",
     "text": [
      "MoviePy - Done.\n",
      "Moviepy - Writing video Navigate your codebase - Copilot Enterprise [no audio].mp4\n",
      "\n"
     ]
    },
    {
     "name": "stderr",
     "output_type": "stream",
     "text": [
      "                                                                \r"
     ]
    },
    {
     "name": "stdout",
     "output_type": "stream",
     "text": [
      "Moviepy - Done !\n",
      "Moviepy - video ready Navigate your codebase - Copilot Enterprise [no audio].mp4\n",
      "Video completed!\n",
      "Start downloading!\n",
      "Start merging!\n",
      "Moviepy - Building video Access the webs knowledge with Bing - Copilot Enterprise [no audio].mp4.\n",
      "MoviePy - Writing audio in Access the webs knowledge with Bing - Copilot Enterprise [no audio]TEMP_MPY_wvf_snd.mp3\n"
     ]
    },
    {
     "name": "stderr",
     "output_type": "stream",
     "text": [
      "                                                                    \r"
     ]
    },
    {
     "name": "stdout",
     "output_type": "stream",
     "text": [
      "MoviePy - Done.\n",
      "Moviepy - Writing video Access the webs knowledge with Bing - Copilot Enterprise [no audio].mp4\n",
      "\n"
     ]
    },
    {
     "name": "stderr",
     "output_type": "stream",
     "text": [
      "                                                                \r"
     ]
    },
    {
     "name": "stdout",
     "output_type": "stream",
     "text": [
      "Moviepy - Done !\n",
      "Moviepy - video ready Access the webs knowledge with Bing - Copilot Enterprise [no audio].mp4\n",
      "Video completed!\n",
      "Start downloading!\n",
      "Start merging!\n",
      "Moviepy - Building video Generate pull request summaries - Copilot Enterprise [no audio].mp4.\n",
      "MoviePy - Writing audio in Generate pull request summaries - Copilot Enterprise [no audio]TEMP_MPY_wvf_snd.mp3\n"
     ]
    },
    {
     "name": "stderr",
     "output_type": "stream",
     "text": [
      "                                                                    \r"
     ]
    },
    {
     "name": "stdout",
     "output_type": "stream",
     "text": [
      "MoviePy - Done.\n",
      "Moviepy - Writing video Generate pull request summaries - Copilot Enterprise [no audio].mp4\n",
      "\n"
     ]
    },
    {
     "name": "stderr",
     "output_type": "stream",
     "text": [
      "                                                              \r"
     ]
    },
    {
     "name": "stdout",
     "output_type": "stream",
     "text": [
      "Moviepy - Done !\n",
      "Moviepy - video ready Generate pull request summaries - Copilot Enterprise [no audio].mp4\n",
      "Video completed!\n",
      "Start downloading!\n",
      "Start merging!\n",
      "Moviepy - Building video Converse with knowledge as context - Copilot Enterprise [no audio].mp4.\n",
      "MoviePy - Writing audio in Converse with knowledge as context - Copilot Enterprise [no audio]TEMP_MPY_wvf_snd.mp3\n"
     ]
    },
    {
     "name": "stderr",
     "output_type": "stream",
     "text": [
      "                                                                    \r"
     ]
    },
    {
     "name": "stdout",
     "output_type": "stream",
     "text": [
      "MoviePy - Done.\n",
      "Moviepy - Writing video Converse with knowledge as context - Copilot Enterprise [no audio].mp4\n",
      "\n"
     ]
    },
    {
     "name": "stderr",
     "output_type": "stream",
     "text": [
      "                                                              \r"
     ]
    },
    {
     "name": "stdout",
     "output_type": "stream",
     "text": [
      "Moviepy - Done !\n",
      "Moviepy - video ready Converse with knowledge as context - Copilot Enterprise [no audio].mp4\n",
      "Video completed!\n",
      "Task Completed!\n"
     ]
    }
   ],
   "source": [
    "# Download YouTube 1080p Videos\n",
    "\n",
    "from pytube import YouTube\n",
    "from moviepy.editor import *\n",
    "\n",
    "# Where to save\n",
    "SAVE_PATH = \"download/\"  # to_do\n",
    "\n",
    "# Links of the videos to be downloaded\n",
    "links = [\"https://www.youtube.com/watch?v=0UpVI5kyRkQ\",\n",
    "         \"https://www.youtube.com/watch?v=ZDbk5M4hbEI\",\n",
    "         \"https://www.youtube.com/watch?v=LlKjlaHGMr4\",\n",
    "         \"https://www.youtube.com/watch?v=KjaQg4UBL4w\",\n",
    "         \"https://www.youtube.com/watch?v=_9g4MFfRDnU\",\n",
    "         \"https://www.youtube.com/watch?v=m_eJKHC5Gbo\",\n",
    "         \"https://www.youtube.com/watch?v=Yr5sVlRh1p8\"]\n",
    "\n",
    "for link in links:\n",
    "    try:\n",
    "        # Object creation using YouTube\n",
    "        # which was imported in the beginning\n",
    "        yt = YouTube(link)\n",
    "    except:\n",
    "        # Handle exception\n",
    "        print(\"Connection Error\")\n",
    "\n",
    "    # Select the highest resolution video-only stream\n",
    "    video_stream = yt.streams.filter(res=\"1080p\", mime_type='video/mp4', file_extension='mp4').first()\n",
    "    # Select the highest quality audio stream\n",
    "    audio_stream = yt.streams.filter(abr=\"128kbps\", mime_type='audio/mp4').first()\n",
    "\n",
    "    if video_stream and audio_stream:\n",
    "        try:\n",
    "            # Download video and audio files\n",
    "            print(\"Start downloading!\")\n",
    "            video_filename = video_stream.download(output_path='tmp/video')\n",
    "            audio_filename = audio_stream.download(output_path='tmp/audio')\n",
    "        except:\n",
    "            print(\"Download Error!\")\n",
    "\n",
    "        print(\"Start merging!\")\n",
    "        # Load downloaded video and audio files\n",
    "        video_clip = VideoFileClip(video_filename)\n",
    "        audio_clip = AudioFileClip(audio_filename)\n",
    "\n",
    "        # Setting the audio of the video clip\n",
    "        final_clip = video_clip.set_audio(audio_clip)\n",
    "\n",
    "        # Export the final clip with both video and audio\n",
    "        final_clip.write_videofile(video_filename.split('\\\\')[-1])\n",
    "\n",
    "        print(\"Video completed!\")\n",
    "\n",
    "    else:\n",
    "        print(\"Required streams are not available.\")\n",
    "\n",
    "print('Task Completed!')\n"
   ]
  },
  {
   "cell_type": "code",
   "execution_count": 2,
   "metadata": {},
   "outputs": [
    {
     "name": "stdout",
     "output_type": "stream",
     "text": [
      "Video downloaded successfully!\n",
      "Video downloaded successfully!\n",
      "Video downloaded successfully!\n",
      "Video downloaded successfully!\n",
      "Video downloaded successfully!\n",
      "Video downloaded successfully!\n",
      "Video downloaded successfully!\n",
      "Task Completed!\n"
     ]
    }
   ],
   "source": [
    "#Download YouTube 720p Videos in Python\n",
    "\n",
    "from pytube import YouTube\n",
    "\n",
    "# Where to save\n",
    "SAVE_PATH = \"download/\"  # to_do\n",
    "\n",
    "# Links of the videos to be downloaded\n",
    "links = [\"https://www.youtube.com/watch?v=0UpVI5kyRkQ\",\n",
    "         \"https://www.youtube.com/watch?v=ZDbk5M4hbEI\",\n",
    "         \"https://www.youtube.com/watch?v=LlKjlaHGMr4\",\n",
    "         \"https://www.youtube.com/watch?v=KjaQg4UBL4w\",\n",
    "         \"https://www.youtube.com/watch?v=_9g4MFfRDnU\",\n",
    "         \"https://www.youtube.com/watch?v=m_eJKHC5Gbo\",\n",
    "         \"https://www.youtube.com/watch?v=Yr5sVlRh1p8\"]\n",
    "\n",
    "for link in links:\n",
    "    try:\n",
    "        # Object creation using YouTube\n",
    "        # which was imported in the beginning\n",
    "        yt = YouTube(link)\n",
    "    except:\n",
    "        # Handle exception\n",
    "        print(\"Connection Error\")\n",
    "\n",
    "    # Get all streams and filter for mp4 files\n",
    "    mp4_streams = yt.streams.filter(res=\"720p\", mime_type=\"video/mp4\", file_extension='mp4').first()\n",
    "\n",
    "    try:\n",
    "        # Download the video\n",
    "        mp4_streams.download(output_path=SAVE_PATH)\n",
    "        print('Video downloaded successfully!')\n",
    "    except:\n",
    "        print(\"Some Error!\")\n",
    "\n",
    "print('Task Completed!')\n"
   ]
  },
  {
   "cell_type": "code",
   "execution_count": 11,
   "metadata": {},
   "outputs": [
    {
     "name": "stdout",
     "output_type": "stream",
     "text": [
      "https://www.youtube.com/watch?v=Fi3AJZZregI downloading...\n",
      "Get Started with the Future of Coding: GitHub Copilot downloaded successfully!\n",
      "https://www.youtube.com/watch?v=gDJzr9DBKTI downloading...\n",
      "Can you use ChatGPT in VS Code?? downloaded successfully!\n",
      "https://www.youtube.com/watch?v=klouU20YHAc downloading...\n",
      "Power Up Typescript with Copilot downloaded successfully!\n",
      "https://www.youtube.com/watch?v=DSHfHT5qnGc downloading...\n",
      "Effortless Python with GitHub Copilot downloaded successfully!\n",
      "https://www.youtube.com/watch?v=QS_bh-3qKdw downloading...\n",
      "Using Copilot with Jupyter Notebooks downloaded successfully!\n",
      "https://www.youtube.com/watch?v=VsUQlSyQn1E downloading...\n",
      "Using Copilot with C# downloaded successfully!\n",
      "https://www.youtube.com/watch?v=nmTMz8IXHbA downloading...\n",
      "Markdown Using Copilot downloaded successfully!\n",
      "https://www.youtube.com/watch?v=zhCB95cE0HY downloading...\n",
      "Copilot For Java downloaded successfully!\n",
      "https://www.youtube.com/watch?v=ImWfIDTxn7E downloading...\n",
      "Prompting with Copilot downloaded successfully!\n",
      "https://www.youtube.com/watch?v=EwtRzAFiXEM downloading...\n",
      "Copilot for PowerShell downloaded successfully!\n",
      "https://www.youtube.com/watch?v=eCOsNCYxdYM downloading...\n",
      "Copilot Chat in VS Code Set Up and Troubleshooting downloaded successfully!\n",
      "https://www.youtube.com/watch?v=Dlt-DCLHnxM downloading...\n",
      "Beyond Chat: Unveiling the New Features in VS Code & GitHub Copilot downloaded successfully!\n",
      "https://www.youtube.com/watch?v=a06rT7Jxyr8 downloading...\n",
      "GitHub Copilot with Teams downloaded successfully!\n",
      "https://www.youtube.com/watch?v=ZfT2CXY5-Dc downloading...\n",
      "Getting Started using Copilot Chat for C++ in VS Code downloaded successfully!\n",
      "Task Completed!\n"
     ]
    }
   ],
   "source": [
    "from pytube import Playlist, YouTube\n",
    "\n",
    "# https://www.youtube.com/playlist?list=PLlrxD0HtieHgr23PS05FIncnih4dH9Na5\n",
    "# https://www.youtube.com/playlist?list=PLj6YeMhvp2S5_hvBl2SE-7YCHYlLQ0bPt\n",
    "# \n",
    "p = Playlist(\"https://www.youtube.com/playlist?list=PLj6YeMhvp2S5_hvBl2SE-7YCHYlLQ0bPt\")\n",
    "\n",
    "# Where to save\n",
    "SAVE_PATH = \"GHCopilotTraining2/\"  # to_do\n",
    "\n",
    "for url in p.video_urls:\n",
    "    print(url + ' downloading...')\n",
    "    try:\n",
    "        # Object creation using YouTube\n",
    "        # which was imported in the beginning\n",
    "        yt = YouTube(url)\n",
    "    except:\n",
    "        # Handle exception\n",
    "        print(\"Connection Error\")\n",
    "\n",
    "    # Get all streams and filter for mp4 files\n",
    "    mp4_streams = yt.streams.filter(res=\"720p\", mime_type=\"video/mp4\", file_extension='mp4').first()\n",
    "\n",
    "    try:\n",
    "        # Download the video\n",
    "        mp4_streams.download(output_path=SAVE_PATH)\n",
    "        print(mp4_streams.title + ' downloaded successfully!')\n",
    "    except:\n",
    "        print(\"Some Error!\")\n",
    "\n",
    "print('Task Completed!')"
   ]
  }
 ],
 "metadata": {
  "kernelspec": {
   "display_name": "aoai",
   "language": "python",
   "name": "python3"
  },
  "language_info": {
   "codemirror_mode": {
    "name": "ipython",
    "version": 3
   },
   "file_extension": ".py",
   "mimetype": "text/x-python",
   "name": "python",
   "nbconvert_exporter": "python",
   "pygments_lexer": "ipython3",
   "version": "3.10.13"
  }
 },
 "nbformat": 4,
 "nbformat_minor": 2
}
